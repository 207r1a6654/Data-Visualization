{
 "cells": [
  {
   "cell_type": "markdown",
   "id": "534742ac",
   "metadata": {
    "papermill": {
     "duration": 0.008032,
     "end_time": "2023-01-14T09:36:31.563746",
     "exception": false,
     "start_time": "2023-01-14T09:36:31.555714",
     "status": "completed"
    },
    "tags": []
   },
   "source": [
    "**This notebook is an exercise in the [Data Visualization](https://www.kaggle.com/learn/data-visualization) course.  You can reference the tutorial at [this link](https://www.kaggle.com/alexisbcook/line-charts).**\n",
    "\n",
    "---\n"
   ]
  },
  {
   "cell_type": "markdown",
   "id": "b4accc3a",
   "metadata": {
    "papermill": {
     "duration": 0.005236,
     "end_time": "2023-01-14T09:36:31.575257",
     "exception": false,
     "start_time": "2023-01-14T09:36:31.570021",
     "status": "completed"
    },
    "tags": []
   },
   "source": [
    "In this exercise, you will use your new knowledge to propose a solution to a real-world scenario. To succeed, you will need to import data into Python, answer questions using the data, and generate **line charts** to understand patterns in the data.\n",
    "\n",
    "## Scenario\n",
    "\n",
    "You have recently been hired to manage the museums in the City of Los Angeles. Your first project focuses on the four museums pictured in the images below.\n",
    "\n",
    "![ex1_museums](https://i.imgur.com/pFYL8J1.png)\n",
    "\n",
    "You will leverage data from the Los Angeles [Data Portal](https://data.lacity.org/) that tracks monthly visitors to each museum.  \n",
    "\n",
    "![ex1_xlsx](https://i.imgur.com/mGWYlym.png)\n",
    "\n",
    "## Setup\n",
    "\n",
    "Run the next cell to import and configure the Python libraries that you need to complete the exercise."
   ]
  },
  {
   "cell_type": "code",
   "execution_count": 1,
   "id": "d1b435bc",
   "metadata": {
    "execution": {
     "iopub.execute_input": "2023-01-14T09:36:31.589380Z",
     "iopub.status.busy": "2023-01-14T09:36:31.588741Z",
     "iopub.status.idle": "2023-01-14T09:36:32.954982Z",
     "shell.execute_reply": "2023-01-14T09:36:32.953368Z"
    },
    "papermill": {
     "duration": 1.377749,
     "end_time": "2023-01-14T09:36:32.958763",
     "exception": false,
     "start_time": "2023-01-14T09:36:31.581014",
     "status": "completed"
    },
    "tags": []
   },
   "outputs": [
    {
     "name": "stdout",
     "output_type": "stream",
     "text": [
      "Setup Complete\n"
     ]
    }
   ],
   "source": [
    "import pandas as pd\n",
    "pd.plotting.register_matplotlib_converters()\n",
    "import matplotlib.pyplot as plt\n",
    "%matplotlib inline\n",
    "import seaborn as sns\n",
    "print(\"Setup Complete\")"
   ]
  },
  {
   "cell_type": "markdown",
   "id": "caa9c04d",
   "metadata": {
    "papermill": {
     "duration": 0.00582,
     "end_time": "2023-01-14T09:36:32.971816",
     "exception": false,
     "start_time": "2023-01-14T09:36:32.965996",
     "status": "completed"
    },
    "tags": []
   },
   "source": [
    "The questions below will give you feedback on your work. Run the following cell to set up the feedback system."
   ]
  },
  {
   "cell_type": "code",
   "execution_count": 2,
   "id": "63fac8bd",
   "metadata": {
    "execution": {
     "iopub.execute_input": "2023-01-14T09:36:32.985789Z",
     "iopub.status.busy": "2023-01-14T09:36:32.985259Z",
     "iopub.status.idle": "2023-01-14T09:36:33.069826Z",
     "shell.execute_reply": "2023-01-14T09:36:33.067471Z"
    },
    "papermill": {
     "duration": 0.095169,
     "end_time": "2023-01-14T09:36:33.072899",
     "exception": false,
     "start_time": "2023-01-14T09:36:32.977730",
     "status": "completed"
    },
    "tags": []
   },
   "outputs": [
    {
     "name": "stdout",
     "output_type": "stream",
     "text": [
      "Setup Complete\n"
     ]
    }
   ],
   "source": [
    "# Set up code checking\n",
    "import os\n",
    "if not os.path.exists(\"../input/museum_visitors.csv\"):\n",
    "    os.symlink(\"../input/data-for-datavis/museum_visitors.csv\", \"../input/museum_visitors.csv\") \n",
    "from learntools.core import binder\n",
    "binder.bind(globals())\n",
    "from learntools.data_viz_to_coder.ex2 import *\n",
    "print(\"Setup Complete\")"
   ]
  },
  {
   "cell_type": "markdown",
   "id": "12f3fc82",
   "metadata": {
    "papermill": {
     "duration": 0.005549,
     "end_time": "2023-01-14T09:36:33.085327",
     "exception": false,
     "start_time": "2023-01-14T09:36:33.079778",
     "status": "completed"
    },
    "tags": []
   },
   "source": [
    "## Step 1: Load the data\n",
    "\n",
    "Your first assignment is to read the LA Museum Visitors data file into `museum_data`.  Note that:\n",
    "- The filepath to the dataset is stored as `museum_filepath`.  Please **do not** change the provided value of the filepath.\n",
    "- The name of the column to use as row labels is `\"Date\"`.  (This can be seen in cell A1 when the file is opened in Excel.)\n",
    "\n",
    "To help with this, you may find it useful to revisit some relevant code from the tutorial, which we have pasted below:\n",
    "\n",
    "```python\n",
    "# Path of the file to read\n",
    "spotify_filepath = \"../input/spotify.csv\"\n",
    "\n",
    "# Read the file into a variable spotify_data\n",
    "spotify_data = pd.read_csv(spotify_filepath, index_col=\"Date\", parse_dates=True)\n",
    "```\n",
    "\n",
    "The code you need to write now looks very similar!"
   ]
  },
  {
   "cell_type": "code",
   "execution_count": 3,
   "id": "b1ff0980",
   "metadata": {
    "execution": {
     "iopub.execute_input": "2023-01-14T09:36:33.101401Z",
     "iopub.status.busy": "2023-01-14T09:36:33.100837Z",
     "iopub.status.idle": "2023-01-14T09:36:33.122171Z",
     "shell.execute_reply": "2023-01-14T09:36:33.120837Z"
    },
    "papermill": {
     "duration": 0.033316,
     "end_time": "2023-01-14T09:36:33.124969",
     "exception": false,
     "start_time": "2023-01-14T09:36:33.091653",
     "status": "completed"
    },
    "tags": []
   },
   "outputs": [
    {
     "data": {
      "application/javascript": [
       "parent.postMessage({\"jupyterEvent\": \"custom.exercise_interaction\", \"data\": {\"outcomeType\": 1, \"valueTowardsCompletion\": 0.3333333333333333, \"interactionType\": 1, \"questionType\": 1, \"questionId\": \"1_LoadMuseumData\", \"learnToolsVersion\": \"0.3.4\", \"failureMessage\": \"\", \"exceptionClass\": \"\", \"trace\": \"\"}}, \"*\")"
      ],
      "text/plain": [
       "<IPython.core.display.Javascript object>"
      ]
     },
     "metadata": {},
     "output_type": "display_data"
    },
    {
     "data": {
      "text/markdown": [
       "<span style=\"color:#33cc33\">Correct</span>"
      ],
      "text/plain": [
       "Correct"
      ]
     },
     "metadata": {},
     "output_type": "display_data"
    }
   ],
   "source": [
    "# Path of the file to read\n",
    "museum_filepath = \"../input/museum_visitors.csv\"\n",
    "\n",
    "# Fill in the line below to read the file into a variable museum_data\n",
    "museum_data = pd.read_csv(museum_filepath,index_col=\"Date\",parse_dates=True)\n",
    "\n",
    "# Run the line below with no changes to check that you've loaded the data correctly\n",
    "step_1.check()"
   ]
  },
  {
   "cell_type": "code",
   "execution_count": 4,
   "id": "64bf37bc",
   "metadata": {
    "execution": {
     "iopub.execute_input": "2023-01-14T09:36:33.142847Z",
     "iopub.status.busy": "2023-01-14T09:36:33.142058Z",
     "iopub.status.idle": "2023-01-14T09:36:33.147777Z",
     "shell.execute_reply": "2023-01-14T09:36:33.146219Z"
    },
    "papermill": {
     "duration": 0.018616,
     "end_time": "2023-01-14T09:36:33.150402",
     "exception": false,
     "start_time": "2023-01-14T09:36:33.131786",
     "status": "completed"
    },
    "tags": []
   },
   "outputs": [],
   "source": [
    "# Uncomment the line below to receive a hint\n",
    "#step_1.hint()\n",
    "# Uncomment the line below to see the solution\n",
    "#step_1.solution()"
   ]
  },
  {
   "cell_type": "markdown",
   "id": "8d0977e0",
   "metadata": {
    "papermill": {
     "duration": 0.005876,
     "end_time": "2023-01-14T09:36:33.164740",
     "exception": false,
     "start_time": "2023-01-14T09:36:33.158864",
     "status": "completed"
    },
    "tags": []
   },
   "source": [
    "## Step 2: Review the data\n",
    "\n",
    "Use a Python command to print the last 5 rows of the data."
   ]
  },
  {
   "cell_type": "code",
   "execution_count": 5,
   "id": "f7db96e5",
   "metadata": {
    "execution": {
     "iopub.execute_input": "2023-01-14T09:36:33.181823Z",
     "iopub.status.busy": "2023-01-14T09:36:33.180850Z",
     "iopub.status.idle": "2023-01-14T09:36:33.199281Z",
     "shell.execute_reply": "2023-01-14T09:36:33.198099Z"
    },
    "papermill": {
     "duration": 0.030357,
     "end_time": "2023-01-14T09:36:33.201687",
     "exception": false,
     "start_time": "2023-01-14T09:36:33.171330",
     "status": "completed"
    },
    "tags": []
   },
   "outputs": [
    {
     "data": {
      "text/html": [
       "<div>\n",
       "<style scoped>\n",
       "    .dataframe tbody tr th:only-of-type {\n",
       "        vertical-align: middle;\n",
       "    }\n",
       "\n",
       "    .dataframe tbody tr th {\n",
       "        vertical-align: top;\n",
       "    }\n",
       "\n",
       "    .dataframe thead th {\n",
       "        text-align: right;\n",
       "    }\n",
       "</style>\n",
       "<table border=\"1\" class=\"dataframe\">\n",
       "  <thead>\n",
       "    <tr style=\"text-align: right;\">\n",
       "      <th></th>\n",
       "      <th>Avila Adobe</th>\n",
       "      <th>Firehouse Museum</th>\n",
       "      <th>Chinese American Museum</th>\n",
       "      <th>America Tropical Interpretive Center</th>\n",
       "    </tr>\n",
       "    <tr>\n",
       "      <th>Date</th>\n",
       "      <th></th>\n",
       "      <th></th>\n",
       "      <th></th>\n",
       "      <th></th>\n",
       "    </tr>\n",
       "  </thead>\n",
       "  <tbody>\n",
       "    <tr>\n",
       "      <th>2018-07-01</th>\n",
       "      <td>23136</td>\n",
       "      <td>4191</td>\n",
       "      <td>2620</td>\n",
       "      <td>4718</td>\n",
       "    </tr>\n",
       "    <tr>\n",
       "      <th>2018-08-01</th>\n",
       "      <td>20815</td>\n",
       "      <td>4866</td>\n",
       "      <td>2409</td>\n",
       "      <td>3891</td>\n",
       "    </tr>\n",
       "    <tr>\n",
       "      <th>2018-09-01</th>\n",
       "      <td>21020</td>\n",
       "      <td>4956</td>\n",
       "      <td>2146</td>\n",
       "      <td>3180</td>\n",
       "    </tr>\n",
       "    <tr>\n",
       "      <th>2018-10-01</th>\n",
       "      <td>19280</td>\n",
       "      <td>4622</td>\n",
       "      <td>2364</td>\n",
       "      <td>3775</td>\n",
       "    </tr>\n",
       "    <tr>\n",
       "      <th>2018-11-01</th>\n",
       "      <td>17163</td>\n",
       "      <td>4082</td>\n",
       "      <td>2385</td>\n",
       "      <td>4562</td>\n",
       "    </tr>\n",
       "  </tbody>\n",
       "</table>\n",
       "</div>"
      ],
      "text/plain": [
       "            Avila Adobe  Firehouse Museum  Chinese American Museum  \\\n",
       "Date                                                                 \n",
       "2018-07-01        23136              4191                     2620   \n",
       "2018-08-01        20815              4866                     2409   \n",
       "2018-09-01        21020              4956                     2146   \n",
       "2018-10-01        19280              4622                     2364   \n",
       "2018-11-01        17163              4082                     2385   \n",
       "\n",
       "            America Tropical Interpretive Center  \n",
       "Date                                              \n",
       "2018-07-01                                  4718  \n",
       "2018-08-01                                  3891  \n",
       "2018-09-01                                  3180  \n",
       "2018-10-01                                  3775  \n",
       "2018-11-01                                  4562  "
      ]
     },
     "execution_count": 5,
     "metadata": {},
     "output_type": "execute_result"
    }
   ],
   "source": [
    "# Print the last five rows of the data \n",
    "# Your code here\n",
    "museum_data.tail()"
   ]
  },
  {
   "cell_type": "markdown",
   "id": "9a49de34",
   "metadata": {
    "papermill": {
     "duration": 0.005867,
     "end_time": "2023-01-14T09:36:33.213905",
     "exception": false,
     "start_time": "2023-01-14T09:36:33.208038",
     "status": "completed"
    },
    "tags": []
   },
   "source": [
    "The last row (for `2018-11-01`) tracks the number of visitors to each museum in November 2018, the next-to-last row (for `2018-10-01`) tracks the number of visitors to each museum in October 2018, _and so on_.\n",
    "\n",
    "Use the last 5 rows of the data to answer the questions below."
   ]
  },
  {
   "cell_type": "code",
   "execution_count": 6,
   "id": "16cefa68",
   "metadata": {
    "execution": {
     "iopub.execute_input": "2023-01-14T09:36:33.228398Z",
     "iopub.status.busy": "2023-01-14T09:36:33.227944Z",
     "iopub.status.idle": "2023-01-14T09:36:33.240455Z",
     "shell.execute_reply": "2023-01-14T09:36:33.238847Z"
    },
    "papermill": {
     "duration": 0.023866,
     "end_time": "2023-01-14T09:36:33.243808",
     "exception": false,
     "start_time": "2023-01-14T09:36:33.219942",
     "status": "completed"
    },
    "tags": []
   },
   "outputs": [
    {
     "data": {
      "application/javascript": [
       "parent.postMessage({\"jupyterEvent\": \"custom.exercise_interaction\", \"data\": {\"outcomeType\": 1, \"valueTowardsCompletion\": 0.3333333333333333, \"interactionType\": 1, \"questionType\": 1, \"questionId\": \"2_ReviewData\", \"learnToolsVersion\": \"0.3.4\", \"failureMessage\": \"\", \"exceptionClass\": \"\", \"trace\": \"\"}}, \"*\")"
      ],
      "text/plain": [
       "<IPython.core.display.Javascript object>"
      ]
     },
     "metadata": {},
     "output_type": "display_data"
    },
    {
     "data": {
      "text/markdown": [
       "<span style=\"color:#33cc33\">Correct</span>"
      ],
      "text/plain": [
       "Correct"
      ]
     },
     "metadata": {},
     "output_type": "display_data"
    }
   ],
   "source": [
    "# Fill in the line below: How many visitors did the Chinese American Museum \n",
    "# receive in July 2018?\n",
    "ca_museum_jul18 =2620 \n",
    "\n",
    "# Fill in the line below: In October 2018, how many more visitors did Avila \n",
    "# Adobe receive than the Firehouse Museum?\n",
    "avila_oct18 = 19280-4622\n",
    "\n",
    "# Check your answers\n",
    "step_2.check()"
   ]
  },
  {
   "cell_type": "code",
   "execution_count": 7,
   "id": "3474ecc0",
   "metadata": {
    "execution": {
     "iopub.execute_input": "2023-01-14T09:36:33.259325Z",
     "iopub.status.busy": "2023-01-14T09:36:33.258903Z",
     "iopub.status.idle": "2023-01-14T09:36:33.265351Z",
     "shell.execute_reply": "2023-01-14T09:36:33.263627Z"
    },
    "papermill": {
     "duration": 0.018573,
     "end_time": "2023-01-14T09:36:33.268971",
     "exception": false,
     "start_time": "2023-01-14T09:36:33.250398",
     "status": "completed"
    },
    "tags": []
   },
   "outputs": [],
   "source": [
    "# Lines below will give you a hint or solution code\n",
    "#step_2.hint()\n",
    "#step_2.solution()"
   ]
  },
  {
   "cell_type": "markdown",
   "id": "39a8f607",
   "metadata": {
    "papermill": {
     "duration": 0.008135,
     "end_time": "2023-01-14T09:36:33.284827",
     "exception": false,
     "start_time": "2023-01-14T09:36:33.276692",
     "status": "completed"
    },
    "tags": []
   },
   "source": [
    "## Step 3: Convince the museum board \n",
    "\n",
    "The Firehouse Museum claims they ran an event in 2014 that brought an incredible number of visitors, and that they should get extra budget to run a similar event again.  The other museums think these types of events aren't that important, and budgets should be split purely based on recent visitors on an average day.  \n",
    "\n",
    "To show the museum board how the event compared to regular traffic at each museum, create a line chart that shows how the number of visitors to each museum evolved over time.  Your figure should have four lines (one for each museum).\n",
    "\n",
    "> **(Optional) Note**: If you have some prior experience with plotting figures in Python, you might be familiar with the `plt.show()` command.  If you decide to use this command, please place it **after** the line of code that checks your answer (in this case, place it after `step_3.check()` below) -- otherwise, the checking code will return an error!"
   ]
  },
  {
   "cell_type": "code",
   "execution_count": 8,
   "id": "f78ab0c9",
   "metadata": {
    "execution": {
     "iopub.execute_input": "2023-01-14T09:36:33.300978Z",
     "iopub.status.busy": "2023-01-14T09:36:33.300560Z",
     "iopub.status.idle": "2023-01-14T09:36:33.818039Z",
     "shell.execute_reply": "2023-01-14T09:36:33.816481Z"
    },
    "papermill": {
     "duration": 0.528386,
     "end_time": "2023-01-14T09:36:33.820854",
     "exception": false,
     "start_time": "2023-01-14T09:36:33.292468",
     "status": "completed"
    },
    "tags": []
   },
   "outputs": [
    {
     "data": {
      "application/javascript": [
       "parent.postMessage({\"jupyterEvent\": \"custom.exercise_interaction\", \"data\": {\"outcomeType\": 1, \"valueTowardsCompletion\": 0.3333333333333333, \"interactionType\": 1, \"questionType\": 2, \"questionId\": \"3_PlotAll\", \"learnToolsVersion\": \"0.3.4\", \"failureMessage\": \"\", \"exceptionClass\": \"\", \"trace\": \"\"}}, \"*\")"
      ],
      "text/plain": [
       "<IPython.core.display.Javascript object>"
      ]
     },
     "metadata": {},
     "output_type": "display_data"
    },
    {
     "data": {
      "text/markdown": [
       "<span style=\"color:#33cc33\">Correct</span>"
      ],
      "text/plain": [
       "Correct"
      ]
     },
     "metadata": {},
     "output_type": "display_data"
    },
    {
     "data": {
      "image/png": "[encoded data removed]",
      "text/plain": [
       "<Figure size 1008x432 with 1 Axes>"
      ]
     },
     "metadata": {
      "needs_background": "light"
     },
     "output_type": "display_data"
    }
   ],
   "source": [
    "# Line chart showing the number of visitors to each museum over time\n",
    " # Your code here\n",
    "plt.figure(figsize=(14,6))\n",
    "\n",
    "# Add title\n",
    "plt.title(\"visitors in every museum\") \n",
    "sns.lineplot(data=museum_data)\n",
    "# Check your answer\n",
    "step_3.check()"
   ]
  },
  {
   "cell_type": "code",
   "execution_count": 9,
   "id": "8eaf7d0a",
   "metadata": {
    "execution": {
     "iopub.execute_input": "2023-01-14T09:36:33.839348Z",
     "iopub.status.busy": "2023-01-14T09:36:33.838887Z",
     "iopub.status.idle": "2023-01-14T09:36:33.845111Z",
     "shell.execute_reply": "2023-01-14T09:36:33.843132Z"
    },
    "papermill": {
     "duration": 0.020471,
     "end_time": "2023-01-14T09:36:33.849282",
     "exception": false,
     "start_time": "2023-01-14T09:36:33.828811",
     "status": "completed"
    },
    "tags": []
   },
   "outputs": [],
   "source": [
    "# Lines below will give you a hint or solution code\n",
    "#step_3.hint()\n",
    "#step_3.solution_plot()"
   ]
  },
  {
   "cell_type": "markdown",
   "id": "fbbfda45",
   "metadata": {
    "papermill": {
     "duration": 0.008246,
     "end_time": "2023-01-14T09:36:33.866685",
     "exception": false,
     "start_time": "2023-01-14T09:36:33.858439",
     "status": "completed"
    },
    "tags": []
   },
   "source": [
    "## Step 4: Assess seasonality\n",
    "\n",
    "When meeting with the employees at Avila Adobe, you hear that one major pain point is that the number of museum visitors varies greatly with the seasons, with low seasons (when the employees are perfectly staffed and happy) and also high seasons (when the employees are understaffed and stressed).  You realize that if you can predict these high and low seasons, you can plan ahead to hire some additional seasonal employees to help out with the extra work.\n",
    "\n",
    "#### Part A\n",
    "Create a line chart that shows how the number of visitors to Avila Adobe has evolved over time.  (_If your code returns an error, the first thing that you should check is that you've spelled the name of the column correctly!  You must write the name of the column exactly as it appears in the dataset._)"
   ]
  },
  {
   "cell_type": "code",
   "execution_count": 10,
   "id": "3e95f131",
   "metadata": {
    "execution": {
     "iopub.execute_input": "2023-01-14T09:36:33.885860Z",
     "iopub.status.busy": "2023-01-14T09:36:33.885155Z",
     "iopub.status.idle": "2023-01-14T09:36:34.241070Z",
     "shell.execute_reply": "2023-01-14T09:36:34.239864Z"
    },
    "papermill": {
     "duration": 0.368817,
     "end_time": "2023-01-14T09:36:34.243688",
     "exception": false,
     "start_time": "2023-01-14T09:36:33.874871",
     "status": "completed"
    },
    "tags": []
   },
   "outputs": [
    {
     "name": "stdout",
     "output_type": "stream",
     "text": [
      "Thank you for creating a line chart!  To see how your code compares to the official solution, please use the code cell below.\n"
     ]
    },
    {
     "data": {
      "application/javascript": [
       "parent.postMessage({\"jupyterEvent\": \"custom.exercise_interaction\", \"data\": {\"outcomeType\": 1, \"valueTowardsCompletion\": 0.3333333333333333, \"interactionType\": 1, \"questionType\": 2, \"questionId\": \"4.1_PlotAvila\", \"learnToolsVersion\": \"0.3.4\", \"failureMessage\": \"\", \"exceptionClass\": \"\", \"trace\": \"\"}}, \"*\")"
      ],
      "text/plain": [
       "<IPython.core.display.Javascript object>"
      ]
     },
     "metadata": {},
     "output_type": "display_data"
    },
    {
     "data": {
      "text/markdown": [
       "<span style=\"color:#33cc33\">Correct</span>"
      ],
      "text/plain": [
       "Correct"
      ]
     },
     "metadata": {},
     "output_type": "display_data"
    },
    {
     "data": {
      "image/png": "[encoded data removed]",
      "text/plain": [
       "<Figure size 432x288 with 1 Axes>"
      ]
     },
     "metadata": {
      "needs_background": "light"
     },
     "output_type": "display_data"
    }
   ],
   "source": [
    "# Line plot showing the number of visitors to Avila Adobe over time\n",
    "# Your code here\n",
    "sns.lineplot(data=museum_data['Avila Adobe'], label=\"Avila Adobe\")\n",
    "# Check your answer\n",
    "step_4.a.check()"
   ]
  },
  {
   "cell_type": "code",
   "execution_count": 11,
   "id": "15af4292",
   "metadata": {
    "execution": {
     "iopub.execute_input": "2023-01-14T09:36:34.265215Z",
     "iopub.status.busy": "2023-01-14T09:36:34.264728Z",
     "iopub.status.idle": "2023-01-14T09:36:34.270364Z",
     "shell.execute_reply": "2023-01-14T09:36:34.269103Z"
    },
    "papermill": {
     "duration": 0.019203,
     "end_time": "2023-01-14T09:36:34.272986",
     "exception": false,
     "start_time": "2023-01-14T09:36:34.253783",
     "status": "completed"
    },
    "tags": []
   },
   "outputs": [],
   "source": [
    "# Lines below will give you a hint or solution code\n",
    "#step_4.a.hint()\n",
    "#step_4.a.solution_plot()"
   ]
  },
  {
   "cell_type": "markdown",
   "id": "ec205fee",
   "metadata": {
    "papermill": {
     "duration": 0.009435,
     "end_time": "2023-01-14T09:36:34.292297",
     "exception": false,
     "start_time": "2023-01-14T09:36:34.282862",
     "status": "completed"
    },
    "tags": []
   },
   "source": [
    "#### Part B\n",
    "\n",
    "Does Avila Adobe get more visitors:\n",
    "- in September-February (in LA, the fall and winter months), or \n",
    "- in March-August (in LA, the spring and summer)?  \n",
    "\n",
    "Using this information, when should the museum staff additional seasonal employees?"
   ]
  },
  {
   "cell_type": "code",
   "execution_count": 12,
   "id": "cdae19cc",
   "metadata": {
    "execution": {
     "iopub.execute_input": "2023-01-14T09:36:34.315297Z",
     "iopub.status.busy": "2023-01-14T09:36:34.314772Z",
     "iopub.status.idle": "2023-01-14T09:36:34.324962Z",
     "shell.execute_reply": "2023-01-14T09:36:34.323949Z"
    },
    "papermill": {
     "duration": 0.025489,
     "end_time": "2023-01-14T09:36:34.327909",
     "exception": false,
     "start_time": "2023-01-14T09:36:34.302420",
     "status": "completed"
    },
    "tags": []
   },
   "outputs": [
    {
     "data": {
      "application/javascript": [
       "parent.postMessage({\"jupyterEvent\": \"custom.exercise_interaction\", \"data\": {\"interactionType\": 2, \"questionType\": 4, \"questionId\": \"4.2_ThinkAvila\", \"learnToolsVersion\": \"0.3.4\", \"valueTowardsCompletion\": 0.0, \"failureMessage\": \"\", \"exceptionClass\": \"\", \"trace\": \"\", \"outcomeType\": 4}}, \"*\")"
      ],
      "text/plain": [
       "<IPython.core.display.Javascript object>"
      ]
     },
     "metadata": {},
     "output_type": "display_data"
    },
    {
     "data": {
      "text/markdown": [
       "<span style=\"color:#3366cc\">Hint:</span> Look at the early part of each year (around January).  Does the line chart dip to low values or reach relatively high values?"
      ],
      "text/plain": [
       "Hint: Look at the early part of each year (around January).  Does the line chart dip to low values or reach relatively high values?"
      ]
     },
     "metadata": {},
     "output_type": "display_data"
    }
   ],
   "source": [
    "step_4.b.hint()"
   ]
  },
  {
   "cell_type": "code",
   "execution_count": 13,
   "id": "c9aec896",
   "metadata": {
    "execution": {
     "iopub.execute_input": "2023-01-14T09:36:34.352302Z",
     "iopub.status.busy": "2023-01-14T09:36:34.351238Z",
     "iopub.status.idle": "2023-01-14T09:36:34.365470Z",
     "shell.execute_reply": "2023-01-14T09:36:34.364339Z"
    },
    "papermill": {
     "duration": 0.02932,
     "end_time": "2023-01-14T09:36:34.368209",
     "exception": false,
     "start_time": "2023-01-14T09:36:34.338889",
     "status": "completed"
    },
    "tags": []
   },
   "outputs": [
    {
     "data": {
      "application/javascript": [
       "parent.postMessage({\"jupyterEvent\": \"custom.exercise_interaction\", \"data\": {\"interactionType\": 3, \"questionType\": 4, \"questionId\": \"4.2_ThinkAvila\", \"learnToolsVersion\": \"0.3.4\", \"valueTowardsCompletion\": 0.0, \"failureMessage\": \"\", \"exceptionClass\": \"\", \"trace\": \"\", \"outcomeType\": 4}}, \"*\")"
      ],
      "text/plain": [
       "<IPython.core.display.Javascript object>"
      ]
     },
     "metadata": {},
     "output_type": "display_data"
    },
    {
     "data": {
      "text/markdown": [
       "<span style=\"color:#33cc99\">Solution:</span> The line chart generally dips to relatively low values around the early part of each year (in December and January), and reaches its highest values in the middle of the year (especially around May and June).  Thus, Avila Adobe usually gets more visitors in March-August (or the spring and summer months).  With this in mind, Avila Adobe could definitely benefit from hiring more seasonal employees to help with the extra work in March-August (the spring and summer)!"
      ],
      "text/plain": [
       "Solution: The line chart generally dips to relatively low values around the early part of each year (in December and January), and reaches its highest values in the middle of the year (especially around May and June).  Thus, Avila Adobe usually gets more visitors in March-August (or the spring and summer months).  With this in mind, Avila Adobe could definitely benefit from hiring more seasonal employees to help with the extra work in March-August (the spring and summer)!"
      ]
     },
     "metadata": {},
     "output_type": "display_data"
    }
   ],
   "source": [
    "# Check your answer (Run this code cell to receive credit!)\n",
    "step_4.b.solution()"
   ]
  },
  {
   "cell_type": "markdown",
   "id": "af8d83f2",
   "metadata": {
    "papermill": {
     "duration": 0.011747,
     "end_time": "2023-01-14T09:36:34.390370",
     "exception": false,
     "start_time": "2023-01-14T09:36:34.378623",
     "status": "completed"
    },
    "tags": []
   },
   "source": [
    "# Keep going\n",
    "\n",
    "Move on to learn about **[bar charts and heatmaps](https://www.kaggle.com/alexisbcook/bar-charts-and-heatmaps)** with a new dataset!"
   ]
  },
  {
   "cell_type": "markdown",
   "id": "dcefb675",
   "metadata": {
    "papermill": {
     "duration": 0.008709,
     "end_time": "2023-01-14T09:36:34.408444",
     "exception": false,
     "start_time": "2023-01-14T09:36:34.399735",
     "status": "completed"
    },
    "tags": []
   },
   "source": [
    "---\n",
    "\n",
    "\n",
    "\n",
    "\n",
    "*Have questions or comments? Visit the [course discussion forum](https://www.kaggle.com/learn/data-visualization/discussion) to chat with other learners.*"
   ]
  }
 ],
 "metadata": {
  "kernelspec": {
   "display_name": "Python 3",
   "language": "python",
   "name": "python3"
  },
  "language_info": {
   "codemirror_mode": {
    "name": "ipython",
    "version": 3
   },
   "file_extension": ".py",
   "mimetype": "text/x-python",
   "name": "python",
   "nbconvert_exporter": "python",
   "pygments_lexer": "ipython3",
   "version": "3.7.12"
  },
  "papermill": {
   "default_parameters": {},
   "duration": 13.203198,
   "end_time": "2023-01-14T09:36:35.242204",
   "environment_variables": {},
   "exception": null,
   "input_path": "__notebook__.ipynb",
   "output_path": "__notebook__.ipynb",
   "parameters": {},
   "start_time": "2023-01-14T09:36:22.039006",
   "version": "2.3.4"
  }
 },
 "nbformat": 4,
 "nbformat_minor": 5
}
