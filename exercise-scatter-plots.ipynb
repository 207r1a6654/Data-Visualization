{
 "cells": [
  {
   "cell_type": "markdown",
   "id": "619c1a06",
   "metadata": {
    "papermill": {
     "duration": 0.009891,
     "end_time": "2023-01-14T11:22:40.417794",
     "exception": false,
     "start_time": "2023-01-14T11:22:40.407903",
     "status": "completed"
    },
    "tags": []
   },
   "source": [
    "**This notebook is an exercise in the [Data Visualization](https://www.kaggle.com/learn/data-visualization) course.  You can reference the tutorial at [this link](https://www.kaggle.com/alexisbcook/scatter-plots).**\n",
    "\n",
    "---\n"
   ]
  },
  {
   "cell_type": "markdown",
   "id": "fd3e43dc",
   "metadata": {
    "papermill": {
     "duration": 0.009863,
     "end_time": "2023-01-14T11:22:40.436564",
     "exception": false,
     "start_time": "2023-01-14T11:22:40.426701",
     "status": "completed"
    },
    "tags": []
   },
   "source": [
    "In this exercise, you will use your new knowledge to propose a solution to a real-world scenario.  To succeed, you will need to import data into Python, answer questions using the data, and generate **scatter plots** to understand patterns in the data.\n",
    "\n",
    "## Scenario\n",
    "\n",
    "You work for a major candy producer, and your goal is to write a report that your company can use to guide the design of its next product.  Soon after starting your research, you stumble across this [very interesting dataset](https://fivethirtyeight.com/features/the-ultimate-halloween-candy-power-ranking/) containing results from a fun survey to crowdsource favorite candies.\n",
    "\n",
    "## Setup\n",
    "\n",
    "Run the next cell to import and configure the Python libraries that you need to complete the exercise."
   ]
  },
  {
   "cell_type": "code",
   "execution_count": 1,
   "id": "f87917ea",
   "metadata": {
    "execution": {
     "iopub.execute_input": "2023-01-14T11:22:40.462311Z",
     "iopub.status.busy": "2023-01-14T11:22:40.460602Z",
     "iopub.status.idle": "2023-01-14T11:22:41.782269Z",
     "shell.execute_reply": "2023-01-14T11:22:41.780945Z"
    },
    "papermill": {
     "duration": 1.337073,
     "end_time": "2023-01-14T11:22:41.784852",
     "exception": false,
     "start_time": "2023-01-14T11:22:40.447779",
     "status": "completed"
    },
    "tags": []
   },
   "outputs": [
    {
     "name": "stdout",
     "output_type": "stream",
     "text": [
      "Setup Complete\n"
     ]
    }
   ],
   "source": [
    "import pandas as pd\n",
    "pd.plotting.register_matplotlib_converters()\n",
    "import matplotlib.pyplot as plt\n",
    "%matplotlib inline\n",
    "import seaborn as sns\n",
    "print(\"Setup Complete\")"
   ]
  },
  {
   "cell_type": "markdown",
   "id": "025f5c13",
   "metadata": {
    "papermill": {
     "duration": 0.008075,
     "end_time": "2023-01-14T11:22:41.801661",
     "exception": false,
     "start_time": "2023-01-14T11:22:41.793586",
     "status": "completed"
    },
    "tags": []
   },
   "source": [
    "The questions below will give you feedback on your work. Run the following cell to set up our feedback system."
   ]
  },
  {
   "cell_type": "code",
   "execution_count": 2,
   "id": "21a62585",
   "metadata": {
    "execution": {
     "iopub.execute_input": "2023-01-14T11:22:41.822752Z",
     "iopub.status.busy": "2023-01-14T11:22:41.822350Z",
     "iopub.status.idle": "2023-01-14T11:22:41.909615Z",
     "shell.execute_reply": "2023-01-14T11:22:41.908107Z"
    },
    "papermill": {
     "duration": 0.100737,
     "end_time": "2023-01-14T11:22:41.912624",
     "exception": false,
     "start_time": "2023-01-14T11:22:41.811887",
     "status": "completed"
    },
    "tags": []
   },
   "outputs": [
    {
     "name": "stdout",
     "output_type": "stream",
     "text": [
      "Setup Complete\n"
     ]
    }
   ],
   "source": [
    "# Set up code checking\n",
    "import os\n",
    "if not os.path.exists(\"../input/candy.csv\"):\n",
    "    os.symlink(\"../input/data-for-datavis/candy.csv\", \"../input/candy.csv\") \n",
    "from learntools.core import binder\n",
    "binder.bind(globals())\n",
    "from learntools.data_viz_to_coder.ex4 import *\n",
    "print(\"Setup Complete\")"
   ]
  },
  {
   "cell_type": "markdown",
   "id": "0af36c36",
   "metadata": {
    "papermill": {
     "duration": 0.008179,
     "end_time": "2023-01-14T11:22:41.929605",
     "exception": false,
     "start_time": "2023-01-14T11:22:41.921426",
     "status": "completed"
    },
    "tags": []
   },
   "source": [
    "## Step 1: Load the Data\n",
    "\n",
    "Read the candy data file into `candy_data`.  Use the `\"id\"` column to label the rows."
   ]
  },
  {
   "cell_type": "code",
   "execution_count": 3,
   "id": "d00b1bcb",
   "metadata": {
    "execution": {
     "iopub.execute_input": "2023-01-14T11:22:41.949103Z",
     "iopub.status.busy": "2023-01-14T11:22:41.948011Z",
     "iopub.status.idle": "2023-01-14T11:22:41.965571Z",
     "shell.execute_reply": "2023-01-14T11:22:41.964316Z"
    },
    "papermill": {
     "duration": 0.030104,
     "end_time": "2023-01-14T11:22:41.968202",
     "exception": false,
     "start_time": "2023-01-14T11:22:41.938098",
     "status": "completed"
    },
    "tags": []
   },
   "outputs": [
    {
     "data": {
      "application/javascript": [
       "parent.postMessage({\"jupyterEvent\": \"custom.exercise_interaction\", \"data\": {\"outcomeType\": 1, \"valueTowardsCompletion\": 0.3333333333333333, \"interactionType\": 1, \"questionType\": 1, \"questionId\": \"1_LoadData\", \"learnToolsVersion\": \"0.3.4\", \"failureMessage\": \"\", \"exceptionClass\": \"\", \"trace\": \"\"}}, \"*\")"
      ],
      "text/plain": [
       "<IPython.core.display.Javascript object>"
      ]
     },
     "metadata": {},
     "output_type": "display_data"
    },
    {
     "data": {
      "text/markdown": [
       "<span style=\"color:#33cc33\">Correct</span>"
      ],
      "text/plain": [
       "Correct"
      ]
     },
     "metadata": {},
     "output_type": "display_data"
    }
   ],
   "source": [
    "# Path of the file to read\n",
    "candy_filepath = \"../input/candy.csv\"\n",
    "\n",
    "# Fill in the line below to read the file into a variable candy_data\n",
    "candy_data = pd.read_csv(candy_filepath,index_col=\"id\")\n",
    "\n",
    "# Run the line below with no changes to check that you've loaded the data correctly\n",
    "step_1.check()"
   ]
  },
  {
   "cell_type": "code",
   "execution_count": 4,
   "id": "674e0bb8",
   "metadata": {
    "execution": {
     "iopub.execute_input": "2023-01-14T11:22:41.987944Z",
     "iopub.status.busy": "2023-01-14T11:22:41.987563Z",
     "iopub.status.idle": "2023-01-14T11:22:41.992979Z",
     "shell.execute_reply": "2023-01-14T11:22:41.991682Z"
    },
    "papermill": {
     "duration": 0.018178,
     "end_time": "2023-01-14T11:22:41.995666",
     "exception": false,
     "start_time": "2023-01-14T11:22:41.977488",
     "status": "completed"
    },
    "tags": []
   },
   "outputs": [],
   "source": [
    "# Lines below will give you a hint or solution code\n",
    "#step_1.hint()\n",
    "#step_1.solution()"
   ]
  },
  {
   "cell_type": "markdown",
   "id": "08621be6",
   "metadata": {
    "papermill": {
     "duration": 0.008606,
     "end_time": "2023-01-14T11:22:42.013165",
     "exception": false,
     "start_time": "2023-01-14T11:22:42.004559",
     "status": "completed"
    },
    "tags": []
   },
   "source": [
    "## Step 2: Review the data\n",
    "\n",
    "Use a Python command to print the first five rows of the data."
   ]
  },
  {
   "cell_type": "code",
   "execution_count": 5,
   "id": "910f538a",
   "metadata": {
    "execution": {
     "iopub.execute_input": "2023-01-14T11:22:42.032730Z",
     "iopub.status.busy": "2023-01-14T11:22:42.032338Z",
     "iopub.status.idle": "2023-01-14T11:22:42.056832Z",
     "shell.execute_reply": "2023-01-14T11:22:42.055623Z"
    },
    "papermill": {
     "duration": 0.037963,
     "end_time": "2023-01-14T11:22:42.059846",
     "exception": false,
     "start_time": "2023-01-14T11:22:42.021883",
     "status": "completed"
    },
    "tags": []
   },
   "outputs": [
    {
     "data": {
      "text/html": [
       "<div>\n",
       "<style scoped>\n",
       "    .dataframe tbody tr th:only-of-type {\n",
       "        vertical-align: middle;\n",
       "    }\n",
       "\n",
       "    .dataframe tbody tr th {\n",
       "        vertical-align: top;\n",
       "    }\n",
       "\n",
       "    .dataframe thead th {\n",
       "        text-align: right;\n",
       "    }\n",
       "</style>\n",
       "<table border=\"1\" class=\"dataframe\">\n",
       "  <thead>\n",
       "    <tr style=\"text-align: right;\">\n",
       "      <th></th>\n",
       "      <th>competitorname</th>\n",
       "      <th>chocolate</th>\n",
       "      <th>fruity</th>\n",
       "      <th>caramel</th>\n",
       "      <th>peanutyalmondy</th>\n",
       "      <th>nougat</th>\n",
       "      <th>crispedricewafer</th>\n",
       "      <th>hard</th>\n",
       "      <th>bar</th>\n",
       "      <th>pluribus</th>\n",
       "      <th>sugarpercent</th>\n",
       "      <th>pricepercent</th>\n",
       "      <th>winpercent</th>\n",
       "    </tr>\n",
       "    <tr>\n",
       "      <th>id</th>\n",
       "      <th></th>\n",
       "      <th></th>\n",
       "      <th></th>\n",
       "      <th></th>\n",
       "      <th></th>\n",
       "      <th></th>\n",
       "      <th></th>\n",
       "      <th></th>\n",
       "      <th></th>\n",
       "      <th></th>\n",
       "      <th></th>\n",
       "      <th></th>\n",
       "      <th></th>\n",
       "    </tr>\n",
       "  </thead>\n",
       "  <tbody>\n",
       "    <tr>\n",
       "      <th>0</th>\n",
       "      <td>100 Grand</td>\n",
       "      <td>Yes</td>\n",
       "      <td>No</td>\n",
       "      <td>Yes</td>\n",
       "      <td>No</td>\n",
       "      <td>No</td>\n",
       "      <td>Yes</td>\n",
       "      <td>No</td>\n",
       "      <td>Yes</td>\n",
       "      <td>No</td>\n",
       "      <td>0.732</td>\n",
       "      <td>0.860</td>\n",
       "      <td>66.971725</td>\n",
       "    </tr>\n",
       "    <tr>\n",
       "      <th>1</th>\n",
       "      <td>3 Musketeers</td>\n",
       "      <td>Yes</td>\n",
       "      <td>No</td>\n",
       "      <td>No</td>\n",
       "      <td>No</td>\n",
       "      <td>Yes</td>\n",
       "      <td>No</td>\n",
       "      <td>No</td>\n",
       "      <td>Yes</td>\n",
       "      <td>No</td>\n",
       "      <td>0.604</td>\n",
       "      <td>0.511</td>\n",
       "      <td>67.602936</td>\n",
       "    </tr>\n",
       "    <tr>\n",
       "      <th>2</th>\n",
       "      <td>Air Heads</td>\n",
       "      <td>No</td>\n",
       "      <td>Yes</td>\n",
       "      <td>No</td>\n",
       "      <td>No</td>\n",
       "      <td>No</td>\n",
       "      <td>No</td>\n",
       "      <td>No</td>\n",
       "      <td>No</td>\n",
       "      <td>No</td>\n",
       "      <td>0.906</td>\n",
       "      <td>0.511</td>\n",
       "      <td>52.341465</td>\n",
       "    </tr>\n",
       "    <tr>\n",
       "      <th>3</th>\n",
       "      <td>Almond Joy</td>\n",
       "      <td>Yes</td>\n",
       "      <td>No</td>\n",
       "      <td>No</td>\n",
       "      <td>Yes</td>\n",
       "      <td>No</td>\n",
       "      <td>No</td>\n",
       "      <td>No</td>\n",
       "      <td>Yes</td>\n",
       "      <td>No</td>\n",
       "      <td>0.465</td>\n",
       "      <td>0.767</td>\n",
       "      <td>50.347546</td>\n",
       "    </tr>\n",
       "    <tr>\n",
       "      <th>4</th>\n",
       "      <td>Baby Ruth</td>\n",
       "      <td>Yes</td>\n",
       "      <td>No</td>\n",
       "      <td>Yes</td>\n",
       "      <td>Yes</td>\n",
       "      <td>Yes</td>\n",
       "      <td>No</td>\n",
       "      <td>No</td>\n",
       "      <td>Yes</td>\n",
       "      <td>No</td>\n",
       "      <td>0.604</td>\n",
       "      <td>0.767</td>\n",
       "      <td>56.914547</td>\n",
       "    </tr>\n",
       "  </tbody>\n",
       "</table>\n",
       "</div>"
      ],
      "text/plain": [
       "   competitorname chocolate fruity caramel peanutyalmondy nougat  \\\n",
       "id                                                                 \n",
       "0       100 Grand       Yes     No     Yes             No     No   \n",
       "1    3 Musketeers       Yes     No      No             No    Yes   \n",
       "2       Air Heads        No    Yes      No             No     No   \n",
       "3      Almond Joy       Yes     No      No            Yes     No   \n",
       "4       Baby Ruth       Yes     No     Yes            Yes    Yes   \n",
       "\n",
       "   crispedricewafer hard  bar pluribus  sugarpercent  pricepercent  winpercent  \n",
       "id                                                                              \n",
       "0               Yes   No  Yes       No         0.732         0.860   66.971725  \n",
       "1                No   No  Yes       No         0.604         0.511   67.602936  \n",
       "2                No   No   No       No         0.906         0.511   52.341465  \n",
       "3                No   No  Yes       No         0.465         0.767   50.347546  \n",
       "4                No   No  Yes       No         0.604         0.767   56.914547  "
      ]
     },
     "execution_count": 5,
     "metadata": {},
     "output_type": "execute_result"
    }
   ],
   "source": [
    "# Print the first five rows of the data\n",
    "candy_data.head()# Your code here"
   ]
  },
  {
   "cell_type": "markdown",
   "id": "54812896",
   "metadata": {
    "papermill": {
     "duration": 0.008786,
     "end_time": "2023-01-14T11:22:42.077781",
     "exception": false,
     "start_time": "2023-01-14T11:22:42.068995",
     "status": "completed"
    },
    "tags": []
   },
   "source": [
    "The dataset contains 83 rows, where each corresponds to a different candy bar.  There are 13 columns:\n",
    "- `'competitorname'` contains the name of the candy bar. \n",
    "- the next **9** columns (from `'chocolate'` to `'pluribus'`) describe the candy.  For instance, rows with chocolate candies have `\"Yes\"` in the `'chocolate'` column (and candies without chocolate have `\"No\"` in the same column).\n",
    "- `'sugarpercent'` provides some indication of the amount of sugar, where higher values signify higher sugar content.\n",
    "- `'pricepercent'` shows the price per unit, relative to the other candies in the dataset.\n",
    "- `'winpercent'` is calculated from the survey results; higher values indicate that the candy was more popular with survey respondents.\n",
    "\n",
    "Use the first five rows of the data to answer the questions below."
   ]
  },
  {
   "cell_type": "code",
   "execution_count": 6,
   "id": "3468401f",
   "metadata": {
    "execution": {
     "iopub.execute_input": "2023-01-14T11:22:42.097548Z",
     "iopub.status.busy": "2023-01-14T11:22:42.097103Z",
     "iopub.status.idle": "2023-01-14T11:22:42.107500Z",
     "shell.execute_reply": "2023-01-14T11:22:42.106471Z"
    },
    "papermill": {
     "duration": 0.023531,
     "end_time": "2023-01-14T11:22:42.110309",
     "exception": false,
     "start_time": "2023-01-14T11:22:42.086778",
     "status": "completed"
    },
    "tags": []
   },
   "outputs": [
    {
     "data": {
      "application/javascript": [
       "parent.postMessage({\"jupyterEvent\": \"custom.exercise_interaction\", \"data\": {\"outcomeType\": 1, \"valueTowardsCompletion\": 0.3333333333333333, \"interactionType\": 1, \"questionType\": 1, \"questionId\": \"2_ReviewData\", \"learnToolsVersion\": \"0.3.4\", \"failureMessage\": \"\", \"exceptionClass\": \"\", \"trace\": \"\"}}, \"*\")"
      ],
      "text/plain": [
       "<IPython.core.display.Javascript object>"
      ]
     },
     "metadata": {},
     "output_type": "display_data"
    },
    {
     "data": {
      "text/markdown": [
       "<span style=\"color:#33cc33\">Correct</span>"
      ],
      "text/plain": [
       "Correct"
      ]
     },
     "metadata": {},
     "output_type": "display_data"
    }
   ],
   "source": [
    "# Fill in the line below: Which candy was more popular with survey respondents:\n",
    "# '3 Musketeers' or 'Almond Joy'?  (Please enclose your answer in single quotes.)\n",
    "more_popular = '3 Musketeers'\n",
    "\n",
    "# Fill in the line below: Which candy has higher sugar content: 'Air Heads'\n",
    "# or 'Baby Ruth'? (Please enclose your answer in single quotes.)\n",
    "more_sugar = 'Air Heads'\n",
    "\n",
    "# Check your answers\n",
    "step_2.check()"
   ]
  },
  {
   "cell_type": "code",
   "execution_count": 7,
   "id": "481e712b",
   "metadata": {
    "execution": {
     "iopub.execute_input": "2023-01-14T11:22:42.131197Z",
     "iopub.status.busy": "2023-01-14T11:22:42.130769Z",
     "iopub.status.idle": "2023-01-14T11:22:42.135840Z",
     "shell.execute_reply": "2023-01-14T11:22:42.134742Z"
    },
    "papermill": {
     "duration": 0.018716,
     "end_time": "2023-01-14T11:22:42.138471",
     "exception": false,
     "start_time": "2023-01-14T11:22:42.119755",
     "status": "completed"
    },
    "tags": []
   },
   "outputs": [],
   "source": [
    "# Lines below will give you a hint or solution code\n",
    "#step_2.hint()\n",
    "#step_2.solution()"
   ]
  },
  {
   "cell_type": "markdown",
   "id": "fc0a646e",
   "metadata": {
    "papermill": {
     "duration": 0.009651,
     "end_time": "2023-01-14T11:22:42.157509",
     "exception": false,
     "start_time": "2023-01-14T11:22:42.147858",
     "status": "completed"
    },
    "tags": []
   },
   "source": [
    "## Step 3: The role of sugar\n",
    "\n",
    "Do people tend to prefer candies with higher sugar content?  \n",
    "\n",
    "#### Part A\n",
    "\n",
    "Create a scatter plot that shows the relationship between `'sugarpercent'` (on the horizontal x-axis) and `'winpercent'` (on the vertical y-axis).  _Don't add a regression line just yet -- you'll do that in the next step!_"
   ]
  },
  {
   "cell_type": "code",
   "execution_count": 8,
   "id": "f75c47d4",
   "metadata": {
    "execution": {
     "iopub.execute_input": "2023-01-14T11:22:42.178909Z",
     "iopub.status.busy": "2023-01-14T11:22:42.177718Z",
     "iopub.status.idle": "2023-01-14T11:22:42.465949Z",
     "shell.execute_reply": "2023-01-14T11:22:42.464479Z"
    },
    "papermill": {
     "duration": 0.301838,
     "end_time": "2023-01-14T11:22:42.468648",
     "exception": false,
     "start_time": "2023-01-14T11:22:42.166810",
     "status": "completed"
    },
    "tags": []
   },
   "outputs": [
    {
     "data": {
      "application/javascript": [
       "parent.postMessage({\"jupyterEvent\": \"custom.exercise_interaction\", \"data\": {\"outcomeType\": 1, \"valueTowardsCompletion\": 0.3333333333333333, \"interactionType\": 1, \"questionType\": 2, \"questionId\": \"3.1_PlotBlueScatter\", \"learnToolsVersion\": \"0.3.4\", \"failureMessage\": \"\", \"exceptionClass\": \"\", \"trace\": \"\"}}, \"*\")"
      ],
      "text/plain": [
       "<IPython.core.display.Javascript object>"
      ]
     },
     "metadata": {},
     "output_type": "display_data"
    },
    {
     "data": {
      "text/markdown": [
       "<span style=\"color:#33cc33\">Correct</span>"
      ],
      "text/plain": [
       "Correct"
      ]
     },
     "metadata": {},
     "output_type": "display_data"
    },
    {
     "data": {
      "image/png": "[encoded data removed]",
      "text/plain": [
       "<Figure size 432x288 with 1 Axes>"
      ]
     },
     "metadata": {
      "needs_background": "light"
     },
     "output_type": "display_data"
    }
   ],
   "source": [
    "# Scatter plot showing the relationship between 'sugarpercent' and 'winpercent'\n",
    "# Your code here\n",
    "sns.scatterplot(x=candy_data['sugarpercent'], y=candy_data['winpercent'])\n",
    "# Check your answer\n",
    "step_3.a.check()"
   ]
  },
  {
   "cell_type": "code",
   "execution_count": 9,
   "id": "6decc8e4",
   "metadata": {
    "execution": {
     "iopub.execute_input": "2023-01-14T11:22:42.502098Z",
     "iopub.status.busy": "2023-01-14T11:22:42.501114Z",
     "iopub.status.idle": "2023-01-14T11:22:42.507406Z",
     "shell.execute_reply": "2023-01-14T11:22:42.506102Z"
    },
    "papermill": {
     "duration": 0.028232,
     "end_time": "2023-01-14T11:22:42.511470",
     "exception": false,
     "start_time": "2023-01-14T11:22:42.483238",
     "status": "completed"
    },
    "tags": []
   },
   "outputs": [],
   "source": [
    "# Lines below will give you a hint or solution code\n",
    "#step_3.a.hint()\n",
    "#step_3.a.solution_plot()"
   ]
  },
  {
   "cell_type": "markdown",
   "id": "cbca1270",
   "metadata": {
    "papermill": {
     "duration": 0.014053,
     "end_time": "2023-01-14T11:22:42.536513",
     "exception": false,
     "start_time": "2023-01-14T11:22:42.522460",
     "status": "completed"
    },
    "tags": []
   },
   "source": [
    "#### Part B\n",
    "\n",
    "Does the scatter plot show a **strong** correlation between the two variables?  If so, are candies with more sugar relatively more or less popular with the survey respondents?"
   ]
  },
  {
   "cell_type": "code",
   "execution_count": 10,
   "id": "ea225ff4",
   "metadata": {
    "execution": {
     "iopub.execute_input": "2023-01-14T11:22:42.559902Z",
     "iopub.status.busy": "2023-01-14T11:22:42.558829Z",
     "iopub.status.idle": "2023-01-14T11:22:42.563690Z",
     "shell.execute_reply": "2023-01-14T11:22:42.562861Z"
    },
    "papermill": {
     "duration": 0.018224,
     "end_time": "2023-01-14T11:22:42.565925",
     "exception": false,
     "start_time": "2023-01-14T11:22:42.547701",
     "status": "completed"
    },
    "tags": []
   },
   "outputs": [],
   "source": [
    "#step_3.b.hint()"
   ]
  },
  {
   "cell_type": "code",
   "execution_count": 11,
   "id": "46a8f588",
   "metadata": {
    "execution": {
     "iopub.execute_input": "2023-01-14T11:22:42.588278Z",
     "iopub.status.busy": "2023-01-14T11:22:42.587216Z",
     "iopub.status.idle": "2023-01-14T11:22:42.595212Z",
     "shell.execute_reply": "2023-01-14T11:22:42.594461Z"
    },
    "papermill": {
     "duration": 0.021143,
     "end_time": "2023-01-14T11:22:42.597153",
     "exception": false,
     "start_time": "2023-01-14T11:22:42.576010",
     "status": "completed"
    },
    "tags": []
   },
   "outputs": [
    {
     "data": {
      "application/javascript": [
       "parent.postMessage({\"jupyterEvent\": \"custom.exercise_interaction\", \"data\": {\"interactionType\": 3, \"questionType\": 4, \"questionId\": \"3.2_ThinkBlueScatter\", \"learnToolsVersion\": \"0.3.4\", \"valueTowardsCompletion\": 0.0, \"failureMessage\": \"\", \"exceptionClass\": \"\", \"trace\": \"\", \"outcomeType\": 4}}, \"*\")"
      ],
      "text/plain": [
       "<IPython.core.display.Javascript object>"
      ]
     },
     "metadata": {},
     "output_type": "display_data"
    },
    {
     "data": {
      "text/markdown": [
       "<span style=\"color:#33cc99\">Solution:</span> The scatter plot does not show a strong correlation between the two variables. Since there is no clear relationship between the two variables, this tells us that sugar content does not play a strong role in candy popularity."
      ],
      "text/plain": [
       "Solution: The scatter plot does not show a strong correlation between the two variables. Since there is no clear relationship between the two variables, this tells us that sugar content does not play a strong role in candy popularity."
      ]
     },
     "metadata": {},
     "output_type": "display_data"
    }
   ],
   "source": [
    "# Check your answer (Run this code cell to receive credit!)\n",
    "step_3.b.solution()"
   ]
  },
  {
   "cell_type": "markdown",
   "id": "c4afcf0e",
   "metadata": {
    "papermill": {
     "duration": 0.009662,
     "end_time": "2023-01-14T11:22:42.616950",
     "exception": false,
     "start_time": "2023-01-14T11:22:42.607288",
     "status": "completed"
    },
    "tags": []
   },
   "source": [
    "## Step 4: Take a closer look\n",
    "\n",
    "#### Part A\n",
    "\n",
    "Create the same scatter plot you created in **Step 3**, but now with a regression line!"
   ]
  },
  {
   "cell_type": "code",
   "execution_count": 12,
   "id": "06ab2d62",
   "metadata": {
    "execution": {
     "iopub.execute_input": "2023-01-14T11:22:42.639494Z",
     "iopub.status.busy": "2023-01-14T11:22:42.638769Z",
     "iopub.status.idle": "2023-01-14T11:22:42.915091Z",
     "shell.execute_reply": "2023-01-14T11:22:42.913952Z"
    },
    "papermill": {
     "duration": 0.291218,
     "end_time": "2023-01-14T11:22:42.918119",
     "exception": false,
     "start_time": "2023-01-14T11:22:42.626901",
     "status": "completed"
    },
    "tags": []
   },
   "outputs": [
    {
     "data": {
      "application/javascript": [
       "parent.postMessage({\"jupyterEvent\": \"custom.exercise_interaction\", \"data\": {\"outcomeType\": 1, \"valueTowardsCompletion\": 0.3333333333333333, \"interactionType\": 1, \"questionType\": 2, \"questionId\": \"4.1_PlotBlueReg\", \"learnToolsVersion\": \"0.3.4\", \"failureMessage\": \"\", \"exceptionClass\": \"\", \"trace\": \"\"}}, \"*\")"
      ],
      "text/plain": [
       "<IPython.core.display.Javascript object>"
      ]
     },
     "metadata": {},
     "output_type": "display_data"
    },
    {
     "data": {
      "text/markdown": [
       "<span style=\"color:#33cc33\">Correct</span>"
      ],
      "text/plain": [
       "Correct"
      ]
     },
     "metadata": {},
     "output_type": "display_data"
    },
    {
     "data": {
      "image/png": "[encoded data removed]",
      "text/plain": [
       "<Figure size 432x288 with 1 Axes>"
      ]
     },
     "metadata": {
      "needs_background": "light"
     },
     "output_type": "display_data"
    }
   ],
   "source": [
    "# Scatter plot w/ regression line showing the relationship between 'sugarpercent' and 'winpercent'\n",
    "____ # Your code here\n",
    "sns.regplot(x=candy_data['sugarpercent'], y=candy_data['winpercent'])\n",
    "# Check your answer\n",
    "step_4.a.check()"
   ]
  },
  {
   "cell_type": "code",
   "execution_count": 13,
   "id": "653dc36e",
   "metadata": {
    "execution": {
     "iopub.execute_input": "2023-01-14T11:22:42.942405Z",
     "iopub.status.busy": "2023-01-14T11:22:42.941111Z",
     "iopub.status.idle": "2023-01-14T11:22:42.946432Z",
     "shell.execute_reply": "2023-01-14T11:22:42.945309Z"
    },
    "papermill": {
     "duration": 0.019799,
     "end_time": "2023-01-14T11:22:42.948784",
     "exception": false,
     "start_time": "2023-01-14T11:22:42.928985",
     "status": "completed"
    },
    "tags": []
   },
   "outputs": [],
   "source": [
    "# Lines below will give you a hint or solution code\n",
    "#step_4.a.hint()\n",
    "#step_4.a.solution_plot()"
   ]
  },
  {
   "cell_type": "markdown",
   "id": "65d33e36",
   "metadata": {
    "papermill": {
     "duration": 0.010382,
     "end_time": "2023-01-14T11:22:42.970725",
     "exception": false,
     "start_time": "2023-01-14T11:22:42.960343",
     "status": "completed"
    },
    "tags": []
   },
   "source": [
    "#### Part B\n",
    "\n",
    "According to the plot above, is there a **slight** correlation between `'winpercent'` and `'sugarpercent'`?  What does this tell you about the candy that people tend to prefer?"
   ]
  },
  {
   "cell_type": "code",
   "execution_count": 14,
   "id": "291e7a30",
   "metadata": {
    "execution": {
     "iopub.execute_input": "2023-01-14T11:22:42.994261Z",
     "iopub.status.busy": "2023-01-14T11:22:42.993790Z",
     "iopub.status.idle": "2023-01-14T11:22:42.999295Z",
     "shell.execute_reply": "2023-01-14T11:22:42.998015Z"
    },
    "papermill": {
     "duration": 0.020213,
     "end_time": "2023-01-14T11:22:43.001875",
     "exception": false,
     "start_time": "2023-01-14T11:22:42.981662",
     "status": "completed"
    },
    "tags": []
   },
   "outputs": [],
   "source": [
    "#step_4.b.hint()"
   ]
  },
  {
   "cell_type": "code",
   "execution_count": 15,
   "id": "eaeaf841",
   "metadata": {
    "execution": {
     "iopub.execute_input": "2023-01-14T11:22:43.026458Z",
     "iopub.status.busy": "2023-01-14T11:22:43.025367Z",
     "iopub.status.idle": "2023-01-14T11:22:43.035266Z",
     "shell.execute_reply": "2023-01-14T11:22:43.034386Z"
    },
    "papermill": {
     "duration": 0.024278,
     "end_time": "2023-01-14T11:22:43.037573",
     "exception": false,
     "start_time": "2023-01-14T11:22:43.013295",
     "status": "completed"
    },
    "tags": []
   },
   "outputs": [
    {
     "data": {
      "application/javascript": [
       "parent.postMessage({\"jupyterEvent\": \"custom.exercise_interaction\", \"data\": {\"interactionType\": 3, \"questionType\": 4, \"questionId\": \"4.2_ThinkBlueReg\", \"learnToolsVersion\": \"0.3.4\", \"valueTowardsCompletion\": 0.0, \"failureMessage\": \"\", \"exceptionClass\": \"\", \"trace\": \"\", \"outcomeType\": 4}}, \"*\")"
      ],
      "text/plain": [
       "<IPython.core.display.Javascript object>"
      ]
     },
     "metadata": {},
     "output_type": "display_data"
    },
    {
     "data": {
      "text/markdown": [
       "<span style=\"color:#33cc99\">Solution:</span> Since the regression line has a slightly positive slope, this tells us that there is a slightly positive correlation between `'winpercent'` and `'sugarpercent'`. Thus, people have a slight preference for candies containing relatively more sugar."
      ],
      "text/plain": [
       "Solution: Since the regression line has a slightly positive slope, this tells us that there is a slightly positive correlation between `'winpercent'` and `'sugarpercent'`. Thus, people have a slight preference for candies containing relatively more sugar."
      ]
     },
     "metadata": {},
     "output_type": "display_data"
    }
   ],
   "source": [
    "# Check your answer (Run this code cell to receive credit!)\n",
    "step_4.b.solution()"
   ]
  },
  {
   "cell_type": "markdown",
   "id": "8fa9aed7",
   "metadata": {
    "papermill": {
     "duration": 0.010865,
     "end_time": "2023-01-14T11:22:43.060109",
     "exception": false,
     "start_time": "2023-01-14T11:22:43.049244",
     "status": "completed"
    },
    "tags": []
   },
   "source": [
    "## Step 5: Chocolate!\n",
    "\n",
    "In the code cell below, create a scatter plot to show the relationship between `'pricepercent'` (on the horizontal x-axis) and `'winpercent'` (on the vertical y-axis). Use the `'chocolate'` column to color-code the points.  _Don't add any regression lines just yet -- you'll do that in the next step!_"
   ]
  },
  {
   "cell_type": "code",
   "execution_count": 16,
   "id": "b6188cd9",
   "metadata": {
    "execution": {
     "iopub.execute_input": "2023-01-14T11:22:43.086502Z",
     "iopub.status.busy": "2023-01-14T11:22:43.085154Z",
     "iopub.status.idle": "2023-01-14T11:22:43.348473Z",
     "shell.execute_reply": "2023-01-14T11:22:43.347221Z"
    },
    "papermill": {
     "duration": 0.278883,
     "end_time": "2023-01-14T11:22:43.351043",
     "exception": false,
     "start_time": "2023-01-14T11:22:43.072160",
     "status": "completed"
    },
    "tags": []
   },
   "outputs": [
    {
     "data": {
      "application/javascript": [
       "parent.postMessage({\"jupyterEvent\": \"custom.exercise_interaction\", \"data\": {\"outcomeType\": 1, \"valueTowardsCompletion\": 0.3333333333333333, \"interactionType\": 1, \"questionType\": 2, \"questionId\": \"5_ColorScatter\", \"learnToolsVersion\": \"0.3.4\", \"failureMessage\": \"\", \"exceptionClass\": \"\", \"trace\": \"\"}}, \"*\")"
      ],
      "text/plain": [
       "<IPython.core.display.Javascript object>"
      ]
     },
     "metadata": {},
     "output_type": "display_data"
    },
    {
     "data": {
      "text/markdown": [
       "<span style=\"color:#33cc33\">Correct</span>"
      ],
      "text/plain": [
       "Correct"
      ]
     },
     "metadata": {},
     "output_type": "display_data"
    },
    {
     "data": {
      "image/png": "[encoded data removed]",
      "text/plain": [
       "<Figure size 432x288 with 1 Axes>"
      ]
     },
     "metadata": {
      "needs_background": "light"
     },
     "output_type": "display_data"
    }
   ],
   "source": [
    "# Scatter plot showing the relationship between 'pricepercent', 'winpercent', and 'chocolate'\n",
    "____ # Your code here\n",
    "sns.scatterplot(x=candy_data['sugarpercent'], y=candy_data['winpercent'],hue=candy_data['chocolate'])\n",
    "# Check your answer\n",
    "step_5.check()"
   ]
  },
  {
   "cell_type": "code",
   "execution_count": 17,
   "id": "fc99a811",
   "metadata": {
    "execution": {
     "iopub.execute_input": "2023-01-14T11:22:43.376806Z",
     "iopub.status.busy": "2023-01-14T11:22:43.375696Z",
     "iopub.status.idle": "2023-01-14T11:22:43.380890Z",
     "shell.execute_reply": "2023-01-14T11:22:43.379672Z"
    },
    "papermill": {
     "duration": 0.020658,
     "end_time": "2023-01-14T11:22:43.383411",
     "exception": false,
     "start_time": "2023-01-14T11:22:43.362753",
     "status": "completed"
    },
    "tags": []
   },
   "outputs": [],
   "source": [
    "# Lines below will give you a hint or solution code\n",
    "#step_5.hint()\n",
    "#step_5.solution_plot()"
   ]
  },
  {
   "cell_type": "markdown",
   "id": "90f0f33b",
   "metadata": {
    "papermill": {
     "duration": 0.011357,
     "end_time": "2023-01-14T11:22:43.406561",
     "exception": false,
     "start_time": "2023-01-14T11:22:43.395204",
     "status": "completed"
    },
    "tags": []
   },
   "source": [
    "Can you see any interesting patterns in the scatter plot?  We'll investigate this plot further  by adding regression lines in the next step!\n",
    "\n",
    "## Step 6: Investigate chocolate\n",
    "\n",
    "#### Part A\n",
    "\n",
    "Create the same scatter plot you created in **Step 5**, but now with two regression lines, corresponding to (1) chocolate candies and (2) candies without chocolate."
   ]
  },
  {
   "cell_type": "code",
   "execution_count": 18,
   "id": "d026a28c",
   "metadata": {
    "execution": {
     "iopub.execute_input": "2023-01-14T11:22:43.432596Z",
     "iopub.status.busy": "2023-01-14T11:22:43.432150Z",
     "iopub.status.idle": "2023-01-14T11:22:44.006161Z",
     "shell.execute_reply": "2023-01-14T11:22:44.004690Z"
    },
    "papermill": {
     "duration": 0.58971,
     "end_time": "2023-01-14T11:22:44.008787",
     "exception": false,
     "start_time": "2023-01-14T11:22:43.419077",
     "status": "completed"
    },
    "tags": []
   },
   "outputs": [
    {
     "data": {
      "application/javascript": [
       "parent.postMessage({\"jupyterEvent\": \"custom.exercise_interaction\", \"data\": {\"outcomeType\": 1, \"valueTowardsCompletion\": 0.3333333333333333, \"interactionType\": 1, \"questionType\": 2, \"questionId\": \"6.1_PlotColorReg\", \"learnToolsVersion\": \"0.3.4\", \"failureMessage\": \"\", \"exceptionClass\": \"\", \"trace\": \"\"}}, \"*\")"
      ],
      "text/plain": [
       "<IPython.core.display.Javascript object>"
      ]
     },
     "metadata": {},
     "output_type": "display_data"
    },
    {
     "data": {
      "text/markdown": [
       "<span style=\"color:#33cc33\">Correct</span>"
      ],
      "text/plain": [
       "Correct"
      ]
     },
     "metadata": {},
     "output_type": "display_data"
    },
    {
     "data": {
      "image/png": "[encoded data removed]",
      "text/plain": [
       "<Figure size 416.375x360 with 1 Axes>"
      ]
     },
     "metadata": {
      "needs_background": "light"
     },
     "output_type": "display_data"
    }
   ],
   "source": [
    "# Color-coded scatter plot w/ regression lines\n",
    "____ # Your code here\n",
    "sns.lmplot(x=\"pricepercent\",y=\"winpercent\",hue=\"chocolate\",data=candy_data)\n",
    "# Check your answer\n",
    "step_6.a.check()"
   ]
  },
  {
   "cell_type": "code",
   "execution_count": 19,
   "id": "1eeaceb6",
   "metadata": {
    "execution": {
     "iopub.execute_input": "2023-01-14T11:22:44.035240Z",
     "iopub.status.busy": "2023-01-14T11:22:44.034829Z",
     "iopub.status.idle": "2023-01-14T11:22:44.040409Z",
     "shell.execute_reply": "2023-01-14T11:22:44.039104Z"
    },
    "papermill": {
     "duration": 0.021812,
     "end_time": "2023-01-14T11:22:44.042962",
     "exception": false,
     "start_time": "2023-01-14T11:22:44.021150",
     "status": "completed"
    },
    "tags": []
   },
   "outputs": [],
   "source": [
    "# Lines below will give you a hint or solution code\n",
    "#step_6.a.hint()\n",
    "#step_6.a.solution_plot()"
   ]
  },
  {
   "cell_type": "markdown",
   "id": "2090e516",
   "metadata": {
    "papermill": {
     "duration": 0.012209,
     "end_time": "2023-01-14T11:22:44.067704",
     "exception": false,
     "start_time": "2023-01-14T11:22:44.055495",
     "status": "completed"
    },
    "tags": []
   },
   "source": [
    "#### Part B\n",
    "\n",
    "Using the regression lines, what conclusions can you draw about the effects of chocolate and price on candy popularity?"
   ]
  },
  {
   "cell_type": "code",
   "execution_count": 20,
   "id": "b2160ccb",
   "metadata": {
    "execution": {
     "iopub.execute_input": "2023-01-14T11:22:44.094748Z",
     "iopub.status.busy": "2023-01-14T11:22:44.094336Z",
     "iopub.status.idle": "2023-01-14T11:22:44.099377Z",
     "shell.execute_reply": "2023-01-14T11:22:44.098072Z"
    },
    "papermill": {
     "duration": 0.02154,
     "end_time": "2023-01-14T11:22:44.101725",
     "exception": false,
     "start_time": "2023-01-14T11:22:44.080185",
     "status": "completed"
    },
    "tags": []
   },
   "outputs": [],
   "source": [
    "#step_6.b.hint()"
   ]
  },
  {
   "cell_type": "code",
   "execution_count": 21,
   "id": "db900339",
   "metadata": {
    "execution": {
     "iopub.execute_input": "2023-01-14T11:22:44.128576Z",
     "iopub.status.busy": "2023-01-14T11:22:44.128118Z",
     "iopub.status.idle": "2023-01-14T11:22:44.139096Z",
     "shell.execute_reply": "2023-01-14T11:22:44.137654Z"
    },
    "papermill": {
     "duration": 0.027943,
     "end_time": "2023-01-14T11:22:44.142155",
     "exception": false,
     "start_time": "2023-01-14T11:22:44.114212",
     "status": "completed"
    },
    "tags": []
   },
   "outputs": [
    {
     "data": {
      "application/javascript": [
       "parent.postMessage({\"jupyterEvent\": \"custom.exercise_interaction\", \"data\": {\"interactionType\": 3, \"questionType\": 4, \"questionId\": \"6.2_ThinkColorReg\", \"learnToolsVersion\": \"0.3.4\", \"valueTowardsCompletion\": 0.0, \"failureMessage\": \"\", \"exceptionClass\": \"\", \"trace\": \"\", \"outcomeType\": 4}}, \"*\")"
      ],
      "text/plain": [
       "<IPython.core.display.Javascript object>"
      ]
     },
     "metadata": {},
     "output_type": "display_data"
    },
    {
     "data": {
      "text/markdown": [
       "<span style=\"color:#33cc99\">Solution:</span> We'll begin with the regression line for chocolate candies. Since this line has a slightly positive slope, we can say that more expensive chocolate candies tend to be more popular (than relatively cheaper chocolate candies).  Likewise, since the regression line for candies without chocolate has a negative slope, we can say that if candies don't contain chocolate, they tend to be more popular when they are cheaper.  One important note, however, is that the dataset is quite small -- so we shouldn't invest too much trust in these patterns!  To inspire more confidence in the results, we should add more candies to the dataset."
      ],
      "text/plain": [
       "Solution: We'll begin with the regression line for chocolate candies. Since this line has a slightly positive slope, we can say that more expensive chocolate candies tend to be more popular (than relatively cheaper chocolate candies).  Likewise, since the regression line for candies without chocolate has a negative slope, we can say that if candies don't contain chocolate, they tend to be more popular when they are cheaper.  One important note, however, is that the dataset is quite small -- so we shouldn't invest too much trust in these patterns!  To inspire more confidence in the results, we should add more candies to the dataset."
      ]
     },
     "metadata": {},
     "output_type": "display_data"
    }
   ],
   "source": [
    "# Check your answer (Run this code cell to receive credit!)\n",
    "step_6.b.solution()"
   ]
  },
  {
   "cell_type": "markdown",
   "id": "b2bb8d32",
   "metadata": {
    "papermill": {
     "duration": 0.012666,
     "end_time": "2023-01-14T11:22:44.168276",
     "exception": false,
     "start_time": "2023-01-14T11:22:44.155610",
     "status": "completed"
    },
    "tags": []
   },
   "source": [
    "## Step 7: Everybody loves chocolate.\n",
    "\n",
    "#### Part A\n",
    "\n",
    "Create a categorical scatter plot to highlight the relationship between `'chocolate'` and `'winpercent'`.  Put `'chocolate'` on the (horizontal) x-axis, and `'winpercent'` on the (vertical) y-axis."
   ]
  },
  {
   "cell_type": "code",
   "execution_count": 22,
   "id": "e54ee42b",
   "metadata": {
    "execution": {
     "iopub.execute_input": "2023-01-14T11:22:44.196168Z",
     "iopub.status.busy": "2023-01-14T11:22:44.195773Z",
     "iopub.status.idle": "2023-01-14T11:22:44.425005Z",
     "shell.execute_reply": "2023-01-14T11:22:44.424044Z"
    },
    "papermill": {
     "duration": 0.246236,
     "end_time": "2023-01-14T11:22:44.427724",
     "exception": false,
     "start_time": "2023-01-14T11:22:44.181488",
     "status": "completed"
    },
    "tags": []
   },
   "outputs": [
    {
     "data": {
      "application/javascript": [
       "parent.postMessage({\"jupyterEvent\": \"custom.exercise_interaction\", \"data\": {\"outcomeType\": 1, \"valueTowardsCompletion\": 0.3333333333333333, \"interactionType\": 1, \"questionType\": 2, \"questionId\": \"7.1_PlotSwarm\", \"learnToolsVersion\": \"0.3.4\", \"failureMessage\": \"\", \"exceptionClass\": \"\", \"trace\": \"\"}}, \"*\")"
      ],
      "text/plain": [
       "<IPython.core.display.Javascript object>"
      ]
     },
     "metadata": {},
     "output_type": "display_data"
    },
    {
     "data": {
      "text/markdown": [
       "<span style=\"color:#33cc33\">Correct</span>"
      ],
      "text/plain": [
       "Correct"
      ]
     },
     "metadata": {},
     "output_type": "display_data"
    },
    {
     "data": {
      "image/png": "[encoded data removed]",
      "text/plain": [
       "<Figure size 432x288 with 1 Axes>"
      ]
     },
     "metadata": {
      "needs_background": "light"
     },
     "output_type": "display_data"
    }
   ],
   "source": [
    "# Scatter plot showing the relationship between 'chocolate' and 'winpercent'\n",
    "____ # Your code here\n",
    "sns.swarmplot(x=candy_data['chocolate'],y=candy_data['winpercent'])\n",
    "# Check your answer\n",
    "step_7.a.check()"
   ]
  },
  {
   "cell_type": "code",
   "execution_count": 23,
   "id": "051bbf6a",
   "metadata": {
    "execution": {
     "iopub.execute_input": "2023-01-14T11:22:44.457186Z",
     "iopub.status.busy": "2023-01-14T11:22:44.456338Z",
     "iopub.status.idle": "2023-01-14T11:22:44.461759Z",
     "shell.execute_reply": "2023-01-14T11:22:44.460600Z"
    },
    "papermill": {
     "duration": 0.022742,
     "end_time": "2023-01-14T11:22:44.464078",
     "exception": false,
     "start_time": "2023-01-14T11:22:44.441336",
     "status": "completed"
    },
    "tags": []
   },
   "outputs": [],
   "source": [
    "# Lines below will give you a hint or solution code\n",
    "#step_7.a.hint()\n",
    "#step_7.a.solution_plot()"
   ]
  },
  {
   "cell_type": "markdown",
   "id": "7489825d",
   "metadata": {
    "papermill": {
     "duration": 0.013041,
     "end_time": "2023-01-14T11:22:44.490938",
     "exception": false,
     "start_time": "2023-01-14T11:22:44.477897",
     "status": "completed"
    },
    "tags": []
   },
   "source": [
    "#### Part B\n",
    "\n",
    "You decide to dedicate a section of your report to the fact that chocolate candies tend to be more popular than candies without chocolate.  Which plot is more appropriate to tell this story: the plot from **Step 6**, or the plot from **Step 7**?"
   ]
  },
  {
   "cell_type": "code",
   "execution_count": 24,
   "id": "66b17e90",
   "metadata": {
    "execution": {
     "iopub.execute_input": "2023-01-14T11:22:44.520376Z",
     "iopub.status.busy": "2023-01-14T11:22:44.519631Z",
     "iopub.status.idle": "2023-01-14T11:22:44.523595Z",
     "shell.execute_reply": "2023-01-14T11:22:44.522833Z"
    },
    "papermill": {
     "duration": 0.021144,
     "end_time": "2023-01-14T11:22:44.525881",
     "exception": false,
     "start_time": "2023-01-14T11:22:44.504737",
     "status": "completed"
    },
    "tags": []
   },
   "outputs": [],
   "source": [
    "#step_7.b.hint()"
   ]
  },
  {
   "cell_type": "code",
   "execution_count": 25,
   "id": "8fe1eb62",
   "metadata": {
    "execution": {
     "iopub.execute_input": "2023-01-14T11:22:44.555169Z",
     "iopub.status.busy": "2023-01-14T11:22:44.554487Z",
     "iopub.status.idle": "2023-01-14T11:22:44.562185Z",
     "shell.execute_reply": "2023-01-14T11:22:44.560994Z"
    },
    "papermill": {
     "duration": 0.025175,
     "end_time": "2023-01-14T11:22:44.564578",
     "exception": false,
     "start_time": "2023-01-14T11:22:44.539403",
     "status": "completed"
    },
    "tags": []
   },
   "outputs": [
    {
     "data": {
      "application/javascript": [
       "parent.postMessage({\"jupyterEvent\": \"custom.exercise_interaction\", \"data\": {\"interactionType\": 3, \"questionType\": 4, \"questionId\": \"7.2_ThinkSwarm\", \"learnToolsVersion\": \"0.3.4\", \"valueTowardsCompletion\": 0.0, \"failureMessage\": \"\", \"exceptionClass\": \"\", \"trace\": \"\", \"outcomeType\": 4}}, \"*\")"
      ],
      "text/plain": [
       "<IPython.core.display.Javascript object>"
      ]
     },
     "metadata": {},
     "output_type": "display_data"
    },
    {
     "data": {
      "text/markdown": [
       "<span style=\"color:#33cc99\">Solution:</span> In this case, the categorical scatter plot from **Step 7** is the more appropriate plot. While both plots tell the desired story, the plot from **Step 6** conveys far more information that could distract from the main point."
      ],
      "text/plain": [
       "Solution: In this case, the categorical scatter plot from **Step 7** is the more appropriate plot. While both plots tell the desired story, the plot from **Step 6** conveys far more information that could distract from the main point."
      ]
     },
     "metadata": {},
     "output_type": "display_data"
    }
   ],
   "source": [
    "# Check your answer (Run this code cell to receive credit!)\n",
    "step_7.b.solution()"
   ]
  },
  {
   "cell_type": "markdown",
   "id": "bea8a7e1",
   "metadata": {
    "papermill": {
     "duration": 0.01321,
     "end_time": "2023-01-14T11:22:44.591532",
     "exception": false,
     "start_time": "2023-01-14T11:22:44.578322",
     "status": "completed"
    },
    "tags": []
   },
   "source": [
    "## Keep going\n",
    "\n",
    "Explore **[histograms and density plots](https://www.kaggle.com/alexisbcook/distributions)**."
   ]
  },
  {
   "cell_type": "markdown",
   "id": "3f325eba",
   "metadata": {
    "papermill": {
     "duration": 0.013144,
     "end_time": "2023-01-14T11:22:44.618128",
     "exception": false,
     "start_time": "2023-01-14T11:22:44.604984",
     "status": "completed"
    },
    "tags": []
   },
   "source": [
    "---\n",
    "\n",
    "\n",
    "\n",
    "\n",
    "*Have questions or comments? Visit the [course discussion forum](https://www.kaggle.com/learn/data-visualization/discussion) to chat with other learners.*"
   ]
  }
 ],
 "metadata": {
  "kernelspec": {
   "display_name": "Python 3",
   "language": "python",
   "name": "python3"
  },
  "language_info": {
   "codemirror_mode": {
    "name": "ipython",
    "version": 3
   },
   "file_extension": ".py",
   "mimetype": "text/x-python",
   "name": "python",
   "nbconvert_exporter": "python",
   "pygments_lexer": "ipython3",
   "version": "3.7.12"
  },
  "papermill": {
   "default_parameters": {},
   "duration": 14.019008,
   "end_time": "2023-01-14T11:22:45.455267",
   "environment_variables": {},
   "exception": null,
   "input_path": "__notebook__.ipynb",
   "output_path": "__notebook__.ipynb",
   "parameters": {},
   "start_time": "2023-01-14T11:22:31.436259",
   "version": "2.3.4"
  }
 },
 "nbformat": 4,
 "nbformat_minor": 5
}
